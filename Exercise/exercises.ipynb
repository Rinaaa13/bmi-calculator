{
 "cells": [
  {
   "cell_type": "markdown",
   "metadata": {},
   "source": [
    "# Exercise: Level 1"
   ]
  },
  {
   "cell_type": "code",
   "execution_count": 14,
   "metadata": {},
   "outputs": [
    {
     "name": "stdout",
     "output_type": "stream",
     "text": [
      "You are old enough to learn to drive.\n"
     ]
    }
   ],
   "source": [
    "inputage = int(input(\"Enter your age: \"))\n",
    "\n",
    "if inputage >= 18:\n",
    "    print(\"You are old enough to learn to drive.\")\n",
    "else:\n",
    "    years_to_wait = 18 - inputage\n",
    "    print(\"You need {} more years to learn to drive.\".format(years_to_wait))"
   ]
  },
  {
   "cell_type": "code",
   "execution_count": 18,
   "metadata": {},
   "outputs": [
    {
     "name": "stdout",
     "output_type": "stream",
     "text": [
      "You are 5 years older than me.\n"
     ]
    }
   ],
   "source": [
    "my_age = 25\n",
    "\n",
    "your_age = int(input(\"Enter your age: \"))\n",
    "\n",
    "if your_age > my_age:\n",
    "    age_difference = your_age - my_age\n",
    "    if age_difference == 1:\n",
    "        print(\"You are 1 year older than me.\")\n",
    "    else:\n",
    "        print(f\"You are {age_difference} years older than me.\")\n",
    "elif your_age < my_age:\n",
    "    age_difference = my_age - your_age\n",
    "    if age_difference == 1:\n",
    "        print(\"I am 1 year older than you.\")\n",
    "    else:\n",
    "        print(f\"I am {age_difference} years older than you.\")\n",
    "else:\n",
    "    print(\"We are the same age.\")\n"
   ]
  },
  {
   "cell_type": "code",
   "execution_count": 19,
   "metadata": {},
   "outputs": [
    {
     "name": "stdout",
     "output_type": "stream",
     "text": [
      "4 is greater than 3\n"
     ]
    }
   ],
   "source": [
    "a = int(input(\"Enter number one: \"))\n",
    "b = int(input(\"Enter number two: \"))\n",
    "\n",
    "if a > b:\n",
    "    print(f\"{a} is greater than {b}\")\n",
    "elif a < b:\n",
    "    print(f\"{a} is smaller than {b}\")\n",
    "else:\n",
    "    print(f\"{a} is equal to {b}\")\n"
   ]
  },
  {
   "cell_type": "markdown",
   "metadata": {},
   "source": [
    "# Exercise: Level 2"
   ]
  },
  {
   "cell_type": "code",
   "execution_count": 20,
   "metadata": {},
   "outputs": [
    {
     "name": "stdout",
     "output_type": "stream",
     "text": [
      "Nilai Anda adalah: A\n"
     ]
    }
   ],
   "source": [
    "score = int(input(\"Masukkan skor Anda: \"))\n",
    "\n",
    "if 80 <= score <= 100:\n",
    "    grade = 'A'\n",
    "elif 70 <= score < 80:\n",
    "    grade = 'B'\n",
    "elif 60 <= score < 70:\n",
    "    grade = 'C'\n",
    "elif 50 <= score < 60:\n",
    "    grade = 'D'\n",
    "elif 0 <= score < 50:\n",
    "    grade = 'F'\n",
    "else:\n",
    "    grade = 'Skor tidak valid'\n",
    "\n",
    "print(f\"Nilai Anda adalah: {grade}\")"
   ]
  },
  {
   "cell_type": "code",
   "execution_count": 21,
   "metadata": {},
   "outputs": [
    {
     "name": "stdout",
     "output_type": "stream",
     "text": [
      "Musim pada bulan July adalah Summer.\n"
     ]
    }
   ],
   "source": [
    "month = input(\"Masukkan nama bulan: \").capitalize()\n",
    "\n",
    "if month in ['September', 'October', 'November']:\n",
    "    season = 'Autumn'\n",
    "elif month in ['December', 'January', 'February']:\n",
    "    season = 'Winter'\n",
    "elif month in ['March', 'April', 'May']:\n",
    "    season = 'Spring'\n",
    "elif month in ['June', 'July', 'August']:\n",
    "    season = 'Summer'\n",
    "else:\n",
    "    season = 'Bulan tidak valid'\n",
    "\n",
    "print(f\"Musim pada bulan {month} adalah {season}.\")"
   ]
  },
  {
   "cell_type": "code",
   "execution_count": 8,
   "metadata": {},
   "outputs": [
    {
     "name": "stdout",
     "output_type": "stream",
     "text": [
      "Buah telah ditambahkan ke dalam daftar.\n",
      "Daftar buah yang diperbarui: ['banana', 'orange', 'mango', 'lemon', 'strawberry']\n"
     ]
    }
   ],
   "source": [
    "fruits = ['banana', 'orange', 'mango', 'lemon']\n",
    "\n",
    "new_fruit = input(\"Masukkan nama buah: \").lower()\n",
    "\n",
    "if new_fruit in fruits:\n",
    "    print(\"That fruit already exists in the list.\")\n",
    "else:\n",
    "    fruits.append(new_fruit)\n",
    "    print(\"Buah telah ditambahkan ke dalam daftar.\")\n",
    "    print(\"Daftar buah yang diperbarui:\", fruits)"
   ]
  },
  {
   "cell_type": "markdown",
   "metadata": {},
   "source": [
    "# Exercise: Level 3"
   ]
  },
  {
   "cell_type": "code",
   "execution_count": 22,
   "metadata": {},
   "outputs": [
    {
     "name": "stdout",
     "output_type": "stream",
     "text": [
      "Middle skill: Node\n",
      "The person has Python skill.\n",
      "He is a fullstack developer.\n",
      "Aurora Luna lives in Indonesia.\n"
     ]
    }
   ],
   "source": [
    "person = {\n",
    "    'first_name': 'Aurora',\n",
    "    'last_name': 'Luna',\n",
    "    'age': 6,\n",
    "    'country': 'Indonesia',\n",
    "    'skills': ['JavaScript', 'React', 'Node', 'MongoDB', 'Python'],\n",
    "    'address': {\n",
    "        'street': 'Jl. Jalan',\n",
    "        'zipcode': '123456'\n",
    "    }\n",
    "}\n",
    "\n",
    "if 'skills' in person:\n",
    "    skills_list = person['skills']\n",
    "    middle_skill_index = len(skills_list) // 2\n",
    "    print(f\"Middle skill: {skills_list[middle_skill_index]}\")\n",
    "\n",
    "if 'skills' in person:\n",
    "    if 'Python' in person['skills']:\n",
    "        print(\"The person has Python skill.\")\n",
    "    else:\n",
    "        print(\"The person does not have Python skill.\")\n",
    "\n",
    "if 'skills' in person:\n",
    "    skills_set = set(person['skills'])\n",
    "    if skills_set.issuperset({'JavaScript', 'React'}) and len(skills_set) == 2:\n",
    "        print(\"He is a front end developer.\")\n",
    "    elif skills_set.issuperset({'Node', 'Python', 'MongoDB'}) and len(skills_set) == 3:\n",
    "        print(\"He is a backend developer.\")\n",
    "    elif skills_set.issuperset({'React', 'Node', 'MongoDB'}):\n",
    "        print(\"He is a fullstack developer.\")\n",
    "    else:\n",
    "        print(\"Unknown title.\")\n",
    "\n",
    "if person.get('country') == 'Indonesia':\n",
    "    print(f\"{person['first_name']} {person['last_name']} lives in Indonesia.\")"
   ]
  }
 ],
 "metadata": {
  "kernelspec": {
   "display_name": "Python 3",
   "language": "python",
   "name": "python3"
  },
  "language_info": {
   "codemirror_mode": {
    "name": "ipython",
    "version": 3
   },
   "file_extension": ".py",
   "mimetype": "text/x-python",
   "name": "python",
   "nbconvert_exporter": "python",
   "pygments_lexer": "ipython3",
   "version": "3.8.10"
  },
  "orig_nbformat": 4
 },
 "nbformat": 4,
 "nbformat_minor": 2
}
