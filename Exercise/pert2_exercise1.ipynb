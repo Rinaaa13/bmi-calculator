{
 "cells": [
  {
   "cell_type": "markdown",
   "metadata": {},
   "source": [
    "# Exercise: Level 1"
   ]
  },
  {
   "cell_type": "markdown",
   "metadata": {},
   "source": [
    "1. Declare a function add_two_numbers. It takes two parameters and it returns a sum."
   ]
  },
  {
   "cell_type": "code",
   "execution_count": 25,
   "metadata": {},
   "outputs": [
    {
     "name": "stdout",
     "output_type": "stream",
     "text": [
      "5\n"
     ]
    }
   ],
   "source": [
    "def add_two_numbers(a, b):\n",
    "    return a + b\n",
    "\n",
    "print(add_two_numbers(2, 3))"
   ]
  },
  {
   "cell_type": "markdown",
   "metadata": {},
   "source": [
    "2. Area of a circle is calculated as follows: area = π x r x r. Write a function that calculates area_of_circle."
   ]
  },
  {
   "cell_type": "code",
   "execution_count": 26,
   "metadata": {},
   "outputs": [
    {
     "name": "stdout",
     "output_type": "stream",
     "text": [
      "153.93804002589985\n"
     ]
    }
   ],
   "source": [
    "import math\n",
    "\n",
    "def area_of_circle(radius):\n",
    "    return math.pi * radius * radius\n",
    "\n",
    "print(area_of_circle(7))"
   ]
  },
  {
   "cell_type": "markdown",
   "metadata": {},
   "source": [
    "3. Write a function called add_all_nums which takes arbitrary number of arguments and sums all the arguments. Check if all the list items are number types. If not do give a reasonable feedback."
   ]
  },
  {
   "cell_type": "code",
   "execution_count": 32,
   "metadata": {},
   "outputs": [
    {
     "name": "stdout",
     "output_type": "stream",
     "text": [
      "10\n",
      "All items must be numbers.\n"
     ]
    }
   ],
   "source": [
    "def add_all_nums(*args):\n",
    "    if all(isinstance(x, (int, float)) for x in args):\n",
    "        return sum(args)\n",
    "    else:\n",
    "        return \"All items must be numbers.\"\n",
    "\n",
    "print(add_all_nums(1, 2, 3, 4))\n",
    "print(add_all_nums(1, 2, \"3\", 4))"
   ]
  },
  {
   "cell_type": "markdown",
   "metadata": {},
   "source": [
    "4. Temperature in °C can be converted to °F using this formula: °F = (°C x 9/5) + 32. Write a function which converts °C to °F, convert_celsius_to-fahrenheit."
   ]
  },
  {
   "cell_type": "code",
   "execution_count": 33,
   "metadata": {},
   "outputs": [
    {
     "name": "stdout",
     "output_type": "stream",
     "text": [
      "68.0\n"
     ]
    }
   ],
   "source": [
    "def convert_celsius_to_fahrenheit(celsius):\n",
    "    return (celsius * 9/5) + 32\n",
    "\n",
    "print(convert_celsius_to_fahrenheit(20))"
   ]
  },
  {
   "cell_type": "markdown",
   "metadata": {},
   "source": [
    "5. Write a function called check-season, it takes a month parameter and returns the season: Autumn, Winter, Spring or Summer."
   ]
  },
  {
   "cell_type": "code",
   "execution_count": 35,
   "metadata": {},
   "outputs": [
    {
     "name": "stdout",
     "output_type": "stream",
     "text": [
      "Winter\n"
     ]
    }
   ],
   "source": [
    "def check_season(month):\n",
    "    month = month.lower()\n",
    "    if month in ['september', 'october', 'november']:\n",
    "        return 'Autumn'\n",
    "    elif month in ['december', 'january', 'february']:\n",
    "        return 'Winter'\n",
    "    elif month in ['march', 'april', 'may']:\n",
    "        return 'Spring'\n",
    "    elif month in ['june', 'july', 'august']:\n",
    "        return 'Summer'\n",
    "    else:\n",
    "        return 'Invalid month'\n",
    "    \n",
    "print(check_season('december'))"
   ]
  },
  {
   "cell_type": "markdown",
   "metadata": {},
   "source": [
    "6. Write a function called calculate_slope which return the slope of a linear equation."
   ]
  },
  {
   "cell_type": "code",
   "execution_count": 37,
   "metadata": {},
   "outputs": [
    {
     "name": "stdout",
     "output_type": "stream",
     "text": [
      "2.0\n"
     ]
    }
   ],
   "source": [
    "def calculate_slope(x1, y1, x2, y2):\n",
    "    if x1 == x2:\n",
    "        return 'Slope is undefined (vertical line)'\n",
    "    return (y2 - y1) / (x2 - x1)\n",
    "\n",
    "print(calculate_slope(6, 20, 16, 40))"
   ]
  },
  {
   "cell_type": "markdown",
   "metadata": {},
   "source": [
    "7. Quadratic equation is calculated as follows: ax² + bx + c = 0. Write a function which calculates solution set of a quadratic equation, solve_quadratic_eqn."
   ]
  },
  {
   "cell_type": "code",
   "execution_count": 39,
   "metadata": {},
   "outputs": [
    {
     "name": "stdout",
     "output_type": "stream",
     "text": [
      "((-2+0j), (-4+0j))\n"
     ]
    }
   ],
   "source": [
    "import cmath\n",
    "\n",
    "def solve_quadratic_eqn(a, b, c):\n",
    "    discriminant = b**2 - 4*a*c\n",
    "    root1 = (-b + cmath.sqrt(discriminant)) / (2*a)\n",
    "    root2 = (-b - cmath.sqrt(discriminant)) / (2*a)\n",
    "    return (root1, root2)\n",
    "\n",
    "print(solve_quadratic_eqn(1, 6, 8))"
   ]
  },
  {
   "cell_type": "markdown",
   "metadata": {},
   "source": [
    "8. Declare a function named print_list. It takes a list as a parameter and it prints out each element of the list."
   ]
  },
  {
   "cell_type": "code",
   "execution_count": 41,
   "metadata": {},
   "outputs": [
    {
     "name": "stdout",
     "output_type": "stream",
     "text": [
      "apple\n",
      "banana\n",
      "cherry\n"
     ]
    }
   ],
   "source": [
    "def print_list(lst):\n",
    "    for item in lst:\n",
    "        print(item)\n",
    "        \n",
    "my_list = ['apple', 'banana', 'cherry']\n",
    "print_list(my_list)"
   ]
  },
  {
   "cell_type": "markdown",
   "metadata": {},
   "source": [
    "9. Declare a function named reverse_list. It takes an array as a parameter and it returns the reverse of the array (use loops)."
   ]
  },
  {
   "cell_type": "code",
   "execution_count": 42,
   "metadata": {},
   "outputs": [
    {
     "name": "stdout",
     "output_type": "stream",
     "text": [
      "[5, 4, 3, 2, 1]\n",
      "['C', 'B', 'A']\n"
     ]
    }
   ],
   "source": [
    "def reverse_list(arr):\n",
    "    reversed_list = []\n",
    "    \n",
    "    for i in range(len(arr) - 1, -1, -1):\n",
    "        reversed_list.append(arr[i])\n",
    "\n",
    "    return reversed_list\n",
    "\n",
    "print(reverse_list([1, 2, 3, 4, 5]))\n",
    "print(reverse_list([\"A\", \"B\", \"C\"]))"
   ]
  },
  {
   "cell_type": "markdown",
   "metadata": {},
   "source": [
    "10. Declare a function named capitalize_list_items. It takes a list as a parameter and it returns a capitalized list of items."
   ]
  },
  {
   "cell_type": "code",
   "execution_count": 43,
   "metadata": {},
   "outputs": [
    {
     "name": "stdout",
     "output_type": "stream",
     "text": [
      "['Apple', 'Banana', 'Cherry']\n",
      "['Dog', 'Cat', 'Mouse']\n"
     ]
    }
   ],
   "source": [
    "def capitalize_list_items(lst):\n",
    "    capitalized_list = []\n",
    "    \n",
    "    for item in lst:\n",
    "        capitalized_list.append(item.capitalize())\n",
    "    \n",
    "    return capitalized_list\n",
    "\n",
    "print(capitalize_list_items(['apple', 'banana', 'cherry']))\n",
    "\n",
    "print(capitalize_list_items(['dog', 'cat', 'mouse']))"
   ]
  },
  {
   "cell_type": "markdown",
   "metadata": {},
   "source": [
    " 11. Declare a function named add_item. It takes a list and an item parameters. It returns a list with the item added at the end."
   ]
  },
  {
   "cell_type": "code",
   "execution_count": 44,
   "metadata": {},
   "outputs": [
    {
     "name": "stdout",
     "output_type": "stream",
     "text": [
      "['Potato', 'Tomato', 'Mango', 'Milk', 'Meat']\n",
      "[2, 3, 7, 9, 5]\n"
     ]
    }
   ],
   "source": [
    "def add_item(lst, item):\n",
    "    new_list = lst.copy()\n",
    "    new_list.append(item)\n",
    "    \n",
    "    return new_list\n",
    "\n",
    "food_staff = ['Potato', 'Tomato', 'Mango', 'Milk']\n",
    "print(add_item(food_staff, 'Meat'))\n",
    "\n",
    "numbers = [2, 3, 7, 9]\n",
    "print(add_item(numbers, 5))\n"
   ]
  },
  {
   "cell_type": "markdown",
   "metadata": {},
   "source": [
    "12. Declare a function named remove_item. It takes a list and an item parameters. It returns a list with the item removed from it."
   ]
  },
  {
   "cell_type": "code",
   "execution_count": 45,
   "metadata": {},
   "outputs": [
    {
     "name": "stdout",
     "output_type": "stream",
     "text": [
      "['Potato', 'Tomato', 'Milk']\n",
      "[2, 7, 9]\n"
     ]
    }
   ],
   "source": [
    "def remove_item(lst, item):\n",
    "    new_list = lst.copy()\n",
    "    \n",
    "    if item in new_list:\n",
    "        new_list.remove(item)\n",
    "    \n",
    "    return new_list\n",
    "\n",
    "food_staff = ['Potato', 'Tomato', 'Mango', 'Milk']\n",
    "print(remove_item(food_staff, 'Mango'))\n",
    "\n",
    "numbers = [2, 3, 7, 9]\n",
    "print(remove_item(numbers, 3))\n"
   ]
  },
  {
   "cell_type": "markdown",
   "metadata": {},
   "source": [
    "13. Declare a function named sum_of_numbers. It takes a number parameter and it adds all the numbers in that range."
   ]
  },
  {
   "cell_type": "code",
   "execution_count": 46,
   "metadata": {},
   "outputs": [
    {
     "name": "stdout",
     "output_type": "stream",
     "text": [
      "15\n",
      "55\n",
      "5050\n"
     ]
    }
   ],
   "source": [
    "def sum_of_numbers(n):\n",
    "    return sum(range(1, n + 1))\n",
    "\n",
    "print(sum_of_numbers(5))\n",
    "print(sum_of_numbers(10))\n",
    "print(sum_of_numbers(100))"
   ]
  },
  {
   "cell_type": "markdown",
   "metadata": {},
   "source": [
    "14. Declare a function named sum_of_odds. It takes a number parameter and it adds all the odd numbers in that range."
   ]
  },
  {
   "cell_type": "code",
   "execution_count": 47,
   "metadata": {},
   "outputs": [
    {
     "name": "stdout",
     "output_type": "stream",
     "text": [
      "64\n"
     ]
    }
   ],
   "source": [
    "def sum_of_odds(n):\n",
    "    return sum(x for x in range(n + 1) if x % 2 != 0)\n",
    "\n",
    "print(sum_of_odds(15))"
   ]
  },
  {
   "cell_type": "markdown",
   "metadata": {},
   "source": [
    "15. Declare a function named sum_of_even. It takes a number parameter and it adds all the even numbers in that - range."
   ]
  },
  {
   "cell_type": "code",
   "execution_count": 50,
   "metadata": {},
   "outputs": [
    {
     "name": "stdout",
     "output_type": "stream",
     "text": [
      "30\n"
     ]
    }
   ],
   "source": [
    "def sum_of_even(n):\n",
    "    return sum(x for x in range(n + 1) if x % 2 == 0)\n",
    "\n",
    "print(sum_of_even(10))"
   ]
  },
  {
   "cell_type": "markdown",
   "metadata": {},
   "source": [
    "# Exercise: Level 2"
   ]
  },
  {
   "cell_type": "markdown",
   "metadata": {},
   "source": [
    "1. Declare a function named evens_and_odds . It takes a positive integer as parameter and it counts number of evens and odds in the number."
   ]
  },
  {
   "cell_type": "code",
   "execution_count": 52,
   "metadata": {},
   "outputs": [
    {
     "name": "stdout",
     "output_type": "stream",
     "text": [
      "The number of odds are 50. \n",
      "The number of evens are 51.\n"
     ]
    }
   ],
   "source": [
    "def evens_and_odds(number):\n",
    "    evens = 0\n",
    "    odds = 0\n",
    "    for i in range(number + 1):\n",
    "        if i % 2 == 0:\n",
    "            evens += 1\n",
    "        else:\n",
    "            odds += 1\n",
    "    return f\"The number of odds are {odds}. \\nThe number of evens are {evens}.\"\n",
    "\n",
    "print(evens_and_odds(100))"
   ]
  },
  {
   "cell_type": "markdown",
   "metadata": {},
   "source": [
    "2. Call your function factorial, it takes a whole number as a parameter and it return a factorial of the number."
   ]
  },
  {
   "cell_type": "code",
   "execution_count": 53,
   "metadata": {},
   "outputs": [
    {
     "name": "stdout",
     "output_type": "stream",
     "text": [
      "120\n"
     ]
    }
   ],
   "source": [
    "import math\n",
    "\n",
    "def factorial(n):\n",
    "    if n < 0:\n",
    "        return \"Factorial is not defined for negative numbers.\"\n",
    "    return math.factorial(n)\n",
    "\n",
    "print(factorial(5))"
   ]
  },
  {
   "cell_type": "markdown",
   "metadata": {},
   "source": [
    "3. Call your function is_empty, it takes a parameter and it checks if it is empty or not."
   ]
  },
  {
   "cell_type": "code",
   "execution_count": 54,
   "metadata": {},
   "outputs": [
    {
     "name": "stdout",
     "output_type": "stream",
     "text": [
      "True\n",
      "False\n"
     ]
    }
   ],
   "source": [
    "def is_empty(param):\n",
    "    return not bool(param)\n",
    "\n",
    "print(is_empty(\"\"))\n",
    "print(is_empty(\"text\"))"
   ]
  },
  {
   "cell_type": "markdown",
   "metadata": {},
   "source": [
    "4. Write different functions which take lists. They should calculate_mean, calculate_median, calculate_mode, calculate_range, calculate_variance, calculate_std (standard deviation)."
   ]
  },
  {
   "cell_type": "code",
   "execution_count": 21,
   "metadata": {},
   "outputs": [
    {
     "name": "stdout",
     "output_type": "stream",
     "text": [
      "3.3333333333333335\n",
      "3.5\n",
      "5\n",
      "4\n",
      "2.6666666666666665\n",
      "1.632993161855452\n"
     ]
    }
   ],
   "source": [
    "import statistics\n",
    "\n",
    "def calculate_mean(lst):\n",
    "    if len(lst) == 0:\n",
    "        return \"List is empty.\"\n",
    "    return statistics.mean(lst)\n",
    "\n",
    "def calculate_median(lst):\n",
    "    if len(lst) == 0:\n",
    "        return \"List is empty.\"\n",
    "    return statistics.median(lst)\n",
    "\n",
    "def calculate_mode(lst):\n",
    "    if len(lst) == 0:\n",
    "        return \"List is empty.\"\n",
    "    try:\n",
    "        return statistics.mode(lst)\n",
    "    except statistics.StatisticsError:\n",
    "        return \"No unique mode found.\"\n",
    "\n",
    "def calculate_range(lst):\n",
    "    if len(lst) == 0:\n",
    "        return \"List is empty.\"\n",
    "    return max(lst) - min(lst)\n",
    "\n",
    "def calculate_variance(lst):\n",
    "    if len(lst) == 0:\n",
    "        return \"List is empty.\"\n",
    "    return statistics.variance(lst)\n",
    "\n",
    "def calculate_std(lst):\n",
    "    if len(lst) == 0:\n",
    "        return \"List is empty.\"\n",
    "    return statistics.stdev(lst)\n",
    "\n",
    "data = [1, 2, 3, 4, 5, 5]\n",
    "print(calculate_mean(data))\n",
    "print(calculate_median(data))\n",
    "print(calculate_mode(data))\n",
    "print(calculate_range(data))\n",
    "print(calculate_variance(data))\n",
    "print(calculate_std(data))"
   ]
  },
  {
   "cell_type": "markdown",
   "metadata": {},
   "source": [
    "# Exercise: Level 3"
   ]
  },
  {
   "cell_type": "markdown",
   "metadata": {},
   "source": [
    "1. Write a function called is_prime, which checks if a number is prime."
   ]
  },
  {
   "cell_type": "code",
   "execution_count": 22,
   "metadata": {},
   "outputs": [
    {
     "name": "stdout",
     "output_type": "stream",
     "text": [
      "True\n",
      "False\n"
     ]
    }
   ],
   "source": [
    "def is_prime(num):\n",
    "    if num <= 1:\n",
    "        return False\n",
    "    if num <= 3:\n",
    "        return True\n",
    "    if num % 2 == 0 or num % 3 == 0:\n",
    "        return False\n",
    "    i = 5\n",
    "    while i * i <= num:\n",
    "        if num % i == 0 or num % (i + 2) == 0:\n",
    "            return False\n",
    "        i += 6\n",
    "    return True\n",
    "\n",
    "print(is_prime(11))\n",
    "print(is_prime(4))"
   ]
  },
  {
   "cell_type": "markdown",
   "metadata": {},
   "source": [
    "2. Write a functions which checks if all items are unique in the list."
   ]
  },
  {
   "cell_type": "code",
   "execution_count": 23,
   "metadata": {},
   "outputs": [
    {
     "name": "stdout",
     "output_type": "stream",
     "text": [
      "True\n",
      "False\n"
     ]
    }
   ],
   "source": [
    "def are_items_unique(lst):\n",
    "    return len(lst) == len(set(lst))\n",
    "\n",
    "print(are_items_unique([1, 2, 3, 4]))\n",
    "print(are_items_unique([1, 2, 3, 3]))"
   ]
  },
  {
   "cell_type": "markdown",
   "metadata": {},
   "source": [
    "3. Write a function which checks if all the items of the list are of the same data type."
   ]
  },
  {
   "cell_type": "code",
   "execution_count": 55,
   "metadata": {},
   "outputs": [
    {
     "name": "stdout",
     "output_type": "stream",
     "text": [
      "True\n",
      "False\n",
      "True\n"
     ]
    }
   ],
   "source": [
    "def all_items_same_type(lst):\n",
    "    if len(lst) == 0:\n",
    "        return True\n",
    "    first_type = type(lst[0])\n",
    "    return all(type(item) == first_type for item in lst)\n",
    "\n",
    "print(all_items_same_type([1, 2, 3, 4]))\n",
    "print(all_items_same_type([1, '2', 3, 4]))\n",
    "print(all_items_same_type([]))"
   ]
  }
 ],
 "metadata": {
  "kernelspec": {
   "display_name": "Python 3",
   "language": "python",
   "name": "python3"
  },
  "language_info": {
   "codemirror_mode": {
    "name": "ipython",
    "version": 3
   },
   "file_extension": ".py",
   "mimetype": "text/x-python",
   "name": "python",
   "nbconvert_exporter": "python",
   "pygments_lexer": "ipython3",
   "version": "3.8.10"
  },
  "orig_nbformat": 4
 },
 "nbformat": 4,
 "nbformat_minor": 2
}
